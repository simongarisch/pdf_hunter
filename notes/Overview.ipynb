{
 "cells": [
  {
   "cell_type": "markdown",
   "metadata": {},
   "source": [
    "# pdf_hunter\n",
    "\n",
    "Search for and download PDF file links from a webpage. "
   ]
  },
  {
   "cell_type": "markdown",
   "metadata": {},
   "source": [
    "## Installation\n",
    "\n",
    "This has been tested using Python 3 and Python 2.7.\n",
    "\n",
    "```\n",
    "pip install pdf_hunter\n",
    "```"
   ]
  },
  {
   "cell_type": "markdown",
   "metadata": {},
   "source": [
    "## Usage"
   ]
  },
  {
   "cell_type": "code",
   "execution_count": 2,
   "metadata": {},
   "outputs": [],
   "source": [
    "import pdf_hunter\n",
    "\n",
    "url = \"https://github.com/EbookFoundation/free-programming-books/blob/master/free-programming-books.md\""
   ]
  },
  {
   "cell_type": "code",
   "execution_count": 6,
   "metadata": {},
   "outputs": [
    {
     "data": {
      "text/plain": [
       "['https://people.gnome.org/~swilmet/glib-gtk-dev-platform.pdf',\n",
       " 'https://www.math.upenn.edu/~wilf/AlgoComp.pdf',\n",
       " 'http://cslibrary.stanford.edu/110/BinaryTrees.pdf',\n",
       " 'http://www-inst.eecs.berkeley.edu/~cs61b/fa14/book2/data-structures.pdf',\n",
       " 'http://lib.mdp.ac.id/ebook/Karya%20Umum/Dsa.pdf',\n",
       " 'http://cslibrary.stanford.edu/103/LinkedListBasics.pdf',\n",
       " 'http://cslibrary.stanford.edu/105/LinkedListProblems.pdf',\n",
       " 'http://www.jjj.de/fxt/fxtbook.pdf',\n",
       " 'http://www.cs.cmu.edu/~rwh/theses/okasaki.pdf',\n",
       " 'http://igm.univ-mlv.fr/~mac/REC/text-algorithms.pdf']"
      ]
     },
     "execution_count": 6,
     "metadata": {},
     "output_type": "execute_result"
    }
   ],
   "source": [
    "pdf_urls = pdf_hunter.get_pdf_urls(url)\n",
    "pdf_urls[:10]"
   ]
  },
  {
   "cell_type": "markdown",
   "metadata": {},
   "source": [
    "## We can download a single PDF file from a given url"
   ]
  },
  {
   "cell_type": "code",
   "execution_count": 8,
   "metadata": {},
   "outputs": [
    {
     "data": {
      "text/plain": [
       "'https://people.gnome.org/~swilmet/glib-gtk-dev-platform.pdf'"
      ]
     },
     "execution_count": 8,
     "metadata": {},
     "output_type": "execute_result"
    }
   ],
   "source": [
    "pdf_url = pdf_urls[0]\n",
    "pdf_url"
   ]
  },
  {
   "cell_type": "code",
   "execution_count": 10,
   "metadata": {},
   "outputs": [
    {
     "data": {
      "text/plain": [
       "'glib-gtk-dev-platform.pdf'"
      ]
     },
     "execution_count": 10,
     "metadata": {},
     "output_type": "execute_result"
    }
   ],
   "source": [
    "file_name = pdf_hunter.get_pdf_name(pdf_url)\n",
    "file_name"
   ]
  },
  {
   "cell_type": "code",
   "execution_count": 11,
   "metadata": {},
   "outputs": [
    {
     "data": {
      "text/plain": [
       "False"
      ]
     },
     "execution_count": 11,
     "metadata": {},
     "output_type": "execute_result"
    }
   ],
   "source": [
    "import os\n",
    "\n",
    "os.path.isfile(file_name)"
   ]
  },
  {
   "cell_type": "code",
   "execution_count": 18,
   "metadata": {},
   "outputs": [
    {
     "data": {
      "text/plain": [
       "True"
      ]
     },
     "execution_count": 18,
     "metadata": {},
     "output_type": "execute_result"
    }
   ],
   "source": [
    "pdf_hunter.download_file(pdf_url, folder_path=os.getcwd())\n",
    "\n",
    "os.path.isfile(file_name)"
   ]
  },
  {
   "cell_type": "markdown",
   "metadata": {},
   "source": [
    "## Or download all PDF files from the page"
   ]
  },
  {
   "cell_type": "code",
   "execution_count": null,
   "metadata": {},
   "outputs": [],
   "source": [
    "pdf_hunter.download_pdf_files(url, folder_path=os.getcwd())"
   ]
  },
  {
   "cell_type": "markdown",
   "metadata": {},
   "source": [
    "***"
   ]
  }
 ],
 "metadata": {
  "kernelspec": {
   "display_name": "py36",
   "language": "python",
   "name": "py36"
  },
  "language_info": {
   "codemirror_mode": {
    "name": "ipython",
    "version": 3
   },
   "file_extension": ".py",
   "mimetype": "text/x-python",
   "name": "python",
   "nbconvert_exporter": "python",
   "pygments_lexer": "ipython3",
   "version": "3.6.6"
  }
 },
 "nbformat": 4,
 "nbformat_minor": 2
}
